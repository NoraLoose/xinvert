{
 "cells": [
  {
   "cell_type": "markdown",
   "metadata": {},
   "source": [
    "# 3D ocean flow\n",
    "**07 October 2022 by MiniUFO**\n",
    "\n",
    "---\n",
    "\n",
    "[TOC]\n",
    "\n",
    "---\n",
    "\n",
    "## 1. Introduction\n",
    "In the case of straitified Boussinesq fluid, the 3D oceanic flow can be linearized about motionless state (i.e., neglecting advection) using five state variables $u$, $v$, $w$, $b$, and $p$ as:\n",
    "$$\\begin{align}\\frac{\\partial u}{\\partial t}&=-\\frac{1}{\\rho_0}\\frac{\\partial p}{\\partial x}+fv+F_x\\tag{1}\\\\ \\frac{\\partial v}{\\partial t}&=-\\frac{1}{\\rho_0}\\frac{\\partial p}{\\partial y}-fu+F_y\\tag{2}\\\\ 0&=-\\frac{1}{\\rho_0}\\frac{\\partial p}{\\partial z}+b\\tag{3}\\\\ \\frac{\\partial u}{\\partial x}+\\frac{\\partial v}{\\partial y}+\\frac{\\partial w}{\\partial z}&=0\\tag{4}\\\\ \\frac{\\partial b}{\\partial t}+wN^2&=0\\tag{5}\\\\ \\end{align}$$\n",
    "\n",
    "Here the flow is driven by the momentum forcing $\\mathbf F$.  In order to damp the energy input into the flow and reach a steady state, one needs dissipation terms.\n",
    "\n",
    "\n",
    "## 2. Derivation of the steady-state equation\n",
    "In order to get the steady-state equation, we replace the tendency terms of momentum and buoyancy by linear damping terms.  Note that the linear damping is the simplest form of dissipation of anomalies relative to the motionless state.  Other dissipation terms can be the Laplacian diffusion.  Replacing the tendencies with linear damping using coefficients $\\epsilon$ and $k$ respectively for $\\mathbf u$ and $b$, introducing $\\phi=p/\\rho_0$ and also eliminating $b$, the above equations becomes:\n",
    "$$\\begin{align}\\epsilon u&=-\\frac{\\partial \\phi}{\\partial x}+fv+F_x\\tag{6}\\\\ \\epsilon v&=-\\frac{\\partial \\phi}{\\partial y}-fu+F_y\\tag{7}\\\\ \\frac{N^2}{k}w&=-\\frac{\\partial \\phi}{\\partial z}\\tag{8}\\\\ \\frac{\\partial u}{\\partial x}+\\frac{\\partial v}{\\partial y}+\\frac{\\partial w}{\\partial z}&=0\\tag{9}\\\\ \\end{align}$$\n",
    "\n",
    "Equations (6-8) are combined into:\n",
    "$$\\begin{align}u&=-c_1\\frac{\\partial \\phi}{\\partial x}-c_2\\frac{\\partial \\phi}{\\partial y}+c_1F_x+c_2F_y\\tag{10}\\\\v&=c_2\\frac{\\partial \\phi}{\\partial x}-c_1\\frac{\\partial \\phi}{\\partial y}-c_2F_x+c_1F_y\\tag{11}\\\\w&=-c_3\\frac{\\partial \\phi}{\\partial z}\\tag{12}\\\\ \\end{align}$$\n",
    "\n",
    "where $c_1=\\epsilon/(\\epsilon^2+f^2)$, $c_2=f/(\\epsilon^2+f^2)$, and $c_3=k/N^2$ are taken as the known coefficients.  Then insert the above three velocity components into continuity equation (9), one gets:\n",
    "$$\\begin{align}\\frac{\\partial }{\\partial z}\\left(c_3\\frac{\\partial \\phi}{\\partial z}\\right)\\notag+\\nabla\\cdot\\left(c_1\\nabla\\phi-c_2\\hat\\nabla\\phi\\right)=\\nabla\\cdot\\left(c_1\\mathbf F-c_2\\mathbf{\\hat F}\\right)\\tag{13}\\end{align}$$\n",
    "\n",
    "or equivalently\n",
    "$$\\begin{align}c_3\\frac{\\partial^2 \\phi}{\\partial z^2}\\notag+c_1\\nabla^2\\phi+\\frac{\\partial c_3}{\\partial z}\\frac{\\partial \\phi}{\\partial z}+\\frac{\\partial c_1}{\\partial y}\\frac{\\partial \\phi}{\\partial y}-\\frac{\\partial c_2}{\\partial y}\\frac{\\partial \\phi}{\\partial x}=\\nabla\\cdot\\left(c_1\\mathbf F-c_2\\mathbf{\\hat F}\\right)\\tag{13}\\end{align}$$\n",
    "\n",
    "This is a second-order partial differential equation about pressue potential $\\phi$, and fits into the 3D general form of the solver. Given forcing $\\mathbf F$, $\\phi$ can be solved numerically by `xinvert`.  Here $c_1$ and $c_3$ is associated with divergence, whereas $c_2$ is assoicated with curl.\n",
    "\n",
    "\n",
    "## 3. Examples\n",
    "Here we will demonstrate how to use `xinvert` python package to invert the 3D oceanic steady-state flow (TODO)."
   ]
  },
  {
   "cell_type": "markdown",
   "metadata": {},
   "source": [
    "---\n",
    "\n",
    "### References\n",
    "1. McCreary Jr., J. P., 1981: [A linear stratified ocean model of the equatorial undercurrent](https://rmets.onlinelibrary.wiley.com/doi/10.1002/qj.49711147002). *Phil. Trans. R. Soc. Lond. A*, **298**, 603-635.\n",
    "2. Salmon, R., 1998: [Lectures on geophysical fluid dynamics](https://www.amazon.com/Lectures-Geophysical-Fluid-Dynamics-Salmon/dp/0195108086). Oxford University Press, New York, 394 pp."
   ]
  }
 ],
 "metadata": {
  "kernelspec": {
   "display_name": "Python 3 (ipykernel)",
   "language": "python",
   "name": "python3"
  },
  "language_info": {
   "codemirror_mode": {
    "name": "ipython",
    "version": 3
   },
   "file_extension": ".py",
   "mimetype": "text/x-python",
   "name": "python",
   "nbconvert_exporter": "python",
   "pygments_lexer": "ipython3",
   "version": "3.10.9"
  }
 },
 "nbformat": 4,
 "nbformat_minor": 4
}
